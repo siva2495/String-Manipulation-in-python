{
 "cells": [
  {
   "cell_type": "raw",
   "id": "ee03c329",
   "metadata": {},
   "source": [
    "String Manipulation in Python"
   ]
  },
  {
   "cell_type": "code",
   "execution_count": 3,
   "id": "3884e9d6",
   "metadata": {},
   "outputs": [
    {
     "data": {
      "text/plain": [
       "'Analytics vidhya creating next generation data science eco-system'"
      ]
     },
     "execution_count": 3,
     "metadata": {},
     "output_type": "execute_result"
    }
   ],
   "source": [
    "#Definig String\n",
    "\n",
    "my_string = \"Analytics vidhya creating next generation data science eco-system\"\n",
    "my_string"
   ]
  },
  {
   "cell_type": "code",
   "execution_count": 4,
   "id": "d7dcdec9",
   "metadata": {},
   "outputs": [
    {
     "data": {
      "text/plain": [
       "65"
      ]
     },
     "execution_count": 4,
     "metadata": {},
     "output_type": "execute_result"
    }
   ],
   "source": [
    "#Length of the string\n",
    "len(my_string)"
   ]
  },
  {
   "cell_type": "code",
   "execution_count": 6,
   "id": "4a54d6eb",
   "metadata": {},
   "outputs": [
    {
     "data": {
      "text/plain": [
       "'A'"
      ]
     },
     "execution_count": 6,
     "metadata": {},
     "output_type": "execute_result"
    }
   ],
   "source": [
    "#Access character in the string\n",
    "my_string[0]"
   ]
  },
  {
   "cell_type": "code",
   "execution_count": 7,
   "id": "c08b2752",
   "metadata": {},
   "outputs": [
    {
     "data": {
      "text/plain": [
       "'l'"
      ]
     },
     "execution_count": 7,
     "metadata": {},
     "output_type": "execute_result"
    }
   ],
   "source": [
    "my_string[3]"
   ]
  },
  {
   "cell_type": "code",
   "execution_count": 8,
   "id": "d707d39d",
   "metadata": {},
   "outputs": [
    {
     "data": {
      "text/plain": [
       "'m'"
      ]
     },
     "execution_count": 8,
     "metadata": {},
     "output_type": "execute_result"
    }
   ],
   "source": [
    "#Access character with negative index\n",
    "my_string[-1]"
   ]
  },
  {
   "cell_type": "code",
   "execution_count": 10,
   "id": "5e7e5d2e",
   "metadata": {},
   "outputs": [
    {
     "data": {
      "text/plain": [
       "'Analytics'"
      ]
     },
     "execution_count": 10,
     "metadata": {},
     "output_type": "execute_result"
    }
   ],
   "source": [
    "#string slicing\n",
    "my_string[0:9]"
   ]
  },
  {
   "cell_type": "code",
   "execution_count": 11,
   "id": "573e3e27",
   "metadata": {
    "scrolled": true
   },
   "outputs": [
    {
     "data": {
      "text/plain": [
       "'vidhya creating next generation data science '"
      ]
     },
     "execution_count": 11,
     "metadata": {},
     "output_type": "execute_result"
    }
   ],
   "source": [
    "my_string[10:-10]"
   ]
  },
  {
   "cell_type": "code",
   "execution_count": 12,
   "id": "a6b6f61f",
   "metadata": {},
   "outputs": [
    {
     "data": {
      "text/plain": [
       "'metsys-oce ecneics atad noitareneg txen gnitaerc ayhdiv scitylanA'"
      ]
     },
     "execution_count": 12,
     "metadata": {},
     "output_type": "execute_result"
    }
   ],
   "source": [
    "#reverse a string\n",
    "my_string[::-1]"
   ]
  },
  {
   "cell_type": "code",
   "execution_count": 13,
   "id": "2cb1cae1",
   "metadata": {},
   "outputs": [
    {
     "data": {
      "text/plain": [
       "'Analytics vidhya creating next generation data science eco-system'"
      ]
     },
     "execution_count": 13,
     "metadata": {},
     "output_type": "execute_result"
    }
   ],
   "source": [
    "#count a particular charactern or sub-string in a string\n",
    "my_string"
   ]
  },
  {
   "cell_type": "code",
   "execution_count": 14,
   "id": "498c6248",
   "metadata": {},
   "outputs": [
    {
     "data": {
      "text/plain": [
       "6"
      ]
     },
     "execution_count": 14,
     "metadata": {},
     "output_type": "execute_result"
    }
   ],
   "source": [
    "my_string.count(\"a\")"
   ]
  },
  {
   "cell_type": "code",
   "execution_count": 15,
   "id": "b16c1366",
   "metadata": {},
   "outputs": [
    {
     "data": {
      "text/plain": [
       "1"
      ]
     },
     "execution_count": 15,
     "metadata": {},
     "output_type": "execute_result"
    }
   ],
   "source": [
    "my_string.count(\"A\")"
   ]
  },
  {
   "cell_type": "code",
   "execution_count": 16,
   "id": "c73fcc1d",
   "metadata": {},
   "outputs": [
    {
     "data": {
      "text/plain": [
       "'vidhya creating next generation data science '"
      ]
     },
     "execution_count": 16,
     "metadata": {},
     "output_type": "execute_result"
    }
   ],
   "source": [
    "my_string[10:-10]"
   ]
  },
  {
   "cell_type": "code",
   "execution_count": 17,
   "id": "6c5a2059",
   "metadata": {},
   "outputs": [
    {
     "data": {
      "text/plain": [
       "5"
      ]
     },
     "execution_count": 17,
     "metadata": {},
     "output_type": "execute_result"
    }
   ],
   "source": [
    "my_string[10:-10].count(\"a\")"
   ]
  },
  {
   "cell_type": "code",
   "execution_count": 18,
   "id": "33f62243",
   "metadata": {},
   "outputs": [
    {
     "data": {
      "text/plain": [
       "0"
      ]
     },
     "execution_count": 18,
     "metadata": {},
     "output_type": "execute_result"
    }
   ],
   "source": [
    "my_string[10:-10].count(\"A\")"
   ]
  },
  {
   "cell_type": "code",
   "execution_count": 19,
   "id": "7758ea10",
   "metadata": {},
   "outputs": [
    {
     "data": {
      "text/plain": [
       "2"
      ]
     },
     "execution_count": 19,
     "metadata": {},
     "output_type": "execute_result"
    }
   ],
   "source": [
    "my_string.count(\"en\")"
   ]
  },
  {
   "cell_type": "raw",
   "id": "9ca80143",
   "metadata": {},
   "source": [
    "Find a sub string in the string using find and index function\n",
    "1.find:\n",
    "    *If present it will retuns the starting index number\n",
    "    *If not found, it will return -1.\n",
    "2.index:\n",
    "    *If present it will returns the starting index number\n",
    "    *If not found, it will give an error"
   ]
  },
  {
   "cell_type": "code",
   "execution_count": 20,
   "id": "8ca406c7",
   "metadata": {},
   "outputs": [
    {
     "data": {
      "text/plain": [
       "26"
      ]
     },
     "execution_count": 20,
     "metadata": {},
     "output_type": "execute_result"
    }
   ],
   "source": [
    "#Find\n",
    "my_string.find(\"next\")"
   ]
  },
  {
   "cell_type": "code",
   "execution_count": 21,
   "id": "fe210ecb",
   "metadata": {},
   "outputs": [
    {
     "data": {
      "text/plain": [
       "-1"
      ]
     },
     "execution_count": 21,
     "metadata": {},
     "output_type": "execute_result"
    }
   ],
   "source": [
    "my_string.find(\"future\")"
   ]
  },
  {
   "cell_type": "code",
   "execution_count": 22,
   "id": "8c60c1ee",
   "metadata": {},
   "outputs": [
    {
     "data": {
      "text/plain": [
       "26"
      ]
     },
     "execution_count": 22,
     "metadata": {},
     "output_type": "execute_result"
    }
   ],
   "source": [
    "#index\n",
    "my_string.index(\"next\")"
   ]
  },
  {
   "cell_type": "code",
   "execution_count": 23,
   "id": "45609577",
   "metadata": {},
   "outputs": [
    {
     "ename": "ValueError",
     "evalue": "substring not found",
     "output_type": "error",
     "traceback": [
      "\u001b[1;31m---------------------------------------------------------------------------\u001b[0m",
      "\u001b[1;31mValueError\u001b[0m                                Traceback (most recent call last)",
      "\u001b[1;32m<ipython-input-23-a0adb1481fd1>\u001b[0m in \u001b[0;36m<module>\u001b[1;34m\u001b[0m\n\u001b[1;32m----> 1\u001b[1;33m \u001b[0mmy_string\u001b[0m\u001b[1;33m.\u001b[0m\u001b[0mindex\u001b[0m\u001b[1;33m(\u001b[0m\u001b[1;34m\"future\"\u001b[0m\u001b[1;33m)\u001b[0m\u001b[1;33m\u001b[0m\u001b[1;33m\u001b[0m\u001b[0m\n\u001b[0m",
      "\u001b[1;31mValueError\u001b[0m: substring not found"
     ]
    }
   ],
   "source": [
    "my_string.index(\"future\")"
   ]
  },
  {
   "cell_type": "code",
   "execution_count": 24,
   "id": "5e27398e",
   "metadata": {},
   "outputs": [
    {
     "data": {
      "text/plain": [
       "'Analytics vidhya creating next generation data science eco-system'"
      ]
     },
     "execution_count": 24,
     "metadata": {},
     "output_type": "execute_result"
    }
   ],
   "source": [
    "#check whether the string start with or ends with a particular sub string or not\n",
    "my_string"
   ]
  },
  {
   "cell_type": "code",
   "execution_count": 25,
   "id": "e0e36964",
   "metadata": {},
   "outputs": [
    {
     "data": {
      "text/plain": [
       "False"
      ]
     },
     "execution_count": 25,
     "metadata": {},
     "output_type": "execute_result"
    }
   ],
   "source": [
    "my_string.endswith(\"python\")"
   ]
  },
  {
   "cell_type": "code",
   "execution_count": 26,
   "id": "b642d824",
   "metadata": {},
   "outputs": [
    {
     "data": {
      "text/plain": [
       "True"
      ]
     },
     "execution_count": 26,
     "metadata": {},
     "output_type": "execute_result"
    }
   ],
   "source": [
    "my_string.endswith(\"system\")"
   ]
  },
  {
   "cell_type": "code",
   "execution_count": 27,
   "id": "d973f5ac",
   "metadata": {},
   "outputs": [
    {
     "data": {
      "text/plain": [
       "True"
      ]
     },
     "execution_count": 27,
     "metadata": {},
     "output_type": "execute_result"
    }
   ],
   "source": [
    "my_string.startswith(\"Analytics\")"
   ]
  },
  {
   "cell_type": "code",
   "execution_count": 28,
   "id": "e77e6c6a",
   "metadata": {},
   "outputs": [
    {
     "data": {
      "text/plain": [
       "False"
      ]
     },
     "execution_count": 28,
     "metadata": {},
     "output_type": "execute_result"
    }
   ],
   "source": [
    "my_string.startswith(\"vidhya\")"
   ]
  },
  {
   "cell_type": "code",
   "execution_count": 29,
   "id": "60c5d898",
   "metadata": {},
   "outputs": [
    {
     "data": {
      "text/plain": [
       "'ANALYTICS VIDHYA CREATING NEXT GENERATION DATA SCIENCE ECO-SYSTEM'"
      ]
     },
     "execution_count": 29,
     "metadata": {},
     "output_type": "execute_result"
    }
   ],
   "source": [
    "#convert the string to the upper case/lower case\n",
    "my_string.upper()"
   ]
  },
  {
   "cell_type": "code",
   "execution_count": 30,
   "id": "847bc511",
   "metadata": {},
   "outputs": [
    {
     "data": {
      "text/plain": [
       "'analytics vidhya creating next generation data science eco-system'"
      ]
     },
     "execution_count": 30,
     "metadata": {},
     "output_type": "execute_result"
    }
   ],
   "source": [
    "my_string.lower()"
   ]
  },
  {
   "cell_type": "code",
   "execution_count": 31,
   "id": "07c4b339",
   "metadata": {},
   "outputs": [
    {
     "data": {
      "text/plain": [
       "'Analytics vidhya creating next generation data science eco-system'"
      ]
     },
     "execution_count": 31,
     "metadata": {},
     "output_type": "execute_result"
    }
   ],
   "source": [
    "#capitalize: update first character of string to upper case\n",
    "my_string.capitalize()"
   ]
  },
  {
   "cell_type": "code",
   "execution_count": 32,
   "id": "a5e6dbcf",
   "metadata": {},
   "outputs": [
    {
     "data": {
      "text/plain": [
       "False"
      ]
     },
     "execution_count": 32,
     "metadata": {},
     "output_type": "execute_result"
    }
   ],
   "source": [
    "#check if the string is lower or upper case\n",
    "my_string.isupper()"
   ]
  },
  {
   "cell_type": "code",
   "execution_count": 33,
   "id": "99cf5269",
   "metadata": {},
   "outputs": [
    {
     "data": {
      "text/plain": [
       "False"
      ]
     },
     "execution_count": 33,
     "metadata": {},
     "output_type": "execute_result"
    }
   ],
   "source": [
    "my_string.islower()"
   ]
  },
  {
   "cell_type": "code",
   "execution_count": 34,
   "id": "a69d84d3",
   "metadata": {},
   "outputs": [
    {
     "data": {
      "text/plain": [
       "False"
      ]
     },
     "execution_count": 34,
     "metadata": {},
     "output_type": "execute_result"
    }
   ],
   "source": [
    "#check the string is alpabetic, digit, alpha-numeric\n",
    "my_string.isnumeric()"
   ]
  },
  {
   "cell_type": "code",
   "execution_count": 37,
   "id": "351ff2a4",
   "metadata": {},
   "outputs": [
    {
     "data": {
      "text/plain": [
       "True"
      ]
     },
     "execution_count": 37,
     "metadata": {},
     "output_type": "execute_result"
    }
   ],
   "source": [
    "\"10\".isnumeric()"
   ]
  },
  {
   "cell_type": "code",
   "execution_count": 39,
   "id": "11b8b490",
   "metadata": {},
   "outputs": [
    {
     "data": {
      "text/plain": [
       "False"
      ]
     },
     "execution_count": 39,
     "metadata": {},
     "output_type": "execute_result"
    }
   ],
   "source": [
    "\"139i982\".isnumeric()"
   ]
  },
  {
   "cell_type": "code",
   "execution_count": 40,
   "id": "ff2ca787",
   "metadata": {},
   "outputs": [
    {
     "data": {
      "text/plain": [
       "True"
      ]
     },
     "execution_count": 40,
     "metadata": {},
     "output_type": "execute_result"
    }
   ],
   "source": [
    "\"139i982\".isalnum()"
   ]
  },
  {
   "cell_type": "code",
   "execution_count": 42,
   "id": "cd410525",
   "metadata": {},
   "outputs": [
    {
     "data": {
      "text/plain": [
       "True"
      ]
     },
     "execution_count": 42,
     "metadata": {},
     "output_type": "execute_result"
    }
   ],
   "source": [
    "\"analyticsvidhya\".isalpha()"
   ]
  },
  {
   "cell_type": "code",
   "execution_count": 43,
   "id": "78286c83",
   "metadata": {},
   "outputs": [
    {
     "data": {
      "text/plain": [
       "False"
      ]
     },
     "execution_count": 43,
     "metadata": {},
     "output_type": "execute_result"
    }
   ],
   "source": [
    "\"analytics vidhya\".isalpha()"
   ]
  },
  {
   "cell_type": "code",
   "execution_count": 45,
   "id": "dfd45cf2",
   "metadata": {},
   "outputs": [
    {
     "data": {
      "text/plain": [
       "'python is easy to learn'"
      ]
     },
     "execution_count": 45,
     "metadata": {},
     "output_type": "execute_result"
    }
   ],
   "source": [
    "#replacing sub string\n",
    "\"java is easy to learn\".replace(\"java\", \"python\")"
   ]
  },
  {
   "cell_type": "code",
   "execution_count": 46,
   "id": "59b98aea",
   "metadata": {},
   "outputs": [
    {
     "data": {
      "text/plain": [
       "'siva has got good marks in DS'"
      ]
     },
     "execution_count": 46,
     "metadata": {},
     "output_type": "execute_result"
    }
   ],
   "source": [
    "\"siva has got worst marks in DS\".replace(\"worst\",\"good\")"
   ]
  },
  {
   "cell_type": "code",
   "execution_count": 47,
   "id": "31541914",
   "metadata": {},
   "outputs": [
    {
     "data": {
      "text/plain": [
       "['python', 'is', 'easy', 'to', 'learn']"
      ]
     },
     "execution_count": 47,
     "metadata": {},
     "output_type": "execute_result"
    }
   ],
   "source": [
    "#split function\n",
    "\"python is easy to learn\".split(\" \")"
   ]
  },
  {
   "cell_type": "code",
   "execution_count": 48,
   "id": "a6f4c7ab",
   "metadata": {},
   "outputs": [
    {
     "data": {
      "text/plain": [
       "['python is ', ' to learn']"
      ]
     },
     "execution_count": 48,
     "metadata": {},
     "output_type": "execute_result"
    }
   ],
   "source": [
    "\"python is easy to learn\".split(\"easy\")"
   ]
  },
  {
   "cell_type": "code",
   "execution_count": null,
   "id": "76304337",
   "metadata": {},
   "outputs": [],
   "source": []
  }
 ],
 "metadata": {
  "kernelspec": {
   "display_name": "Python 3",
   "language": "python",
   "name": "python3"
  },
  "language_info": {
   "codemirror_mode": {
    "name": "ipython",
    "version": 3
   },
   "file_extension": ".py",
   "mimetype": "text/x-python",
   "name": "python",
   "nbconvert_exporter": "python",
   "pygments_lexer": "ipython3",
   "version": "3.8.8"
  }
 },
 "nbformat": 4,
 "nbformat_minor": 5
}
